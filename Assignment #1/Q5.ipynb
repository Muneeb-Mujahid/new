{
 "cells": [
  {
   "cell_type": "code",
   "execution_count": 1,
   "id": "1d3fd807",
   "metadata": {},
   "outputs": [
    {
     "name": "stdout",
     "output_type": "stream",
     "text": [
      "Input your First Name : Muhammad\n",
      "Input your Last Name : Muneeb\n",
      "Hello  Muneeb Muhammad\n"
     ]
    }
   ],
   "source": [
    "a = input(\"Input your First Name : \")\n",
    "b = input(\"Input your Last Name : \")\n",
    "print (\"Hello  \" + b + \" \" + a)"
   ]
  },
  {
   "cell_type": "code",
   "execution_count": null,
   "id": "3e984e95",
   "metadata": {},
   "outputs": [],
   "source": []
  }
 ],
 "metadata": {
  "kernelspec": {
   "display_name": "Python 3 (ipykernel)",
   "language": "python",
   "name": "python3"
  },
  "language_info": {
   "codemirror_mode": {
    "name": "ipython",
    "version": 3
   },
   "file_extension": ".py",
   "mimetype": "text/x-python",
   "name": "python",
   "nbconvert_exporter": "python",
   "pygments_lexer": "ipython3",
   "version": "3.9.7"
  }
 },
 "nbformat": 4,
 "nbformat_minor": 5
}
